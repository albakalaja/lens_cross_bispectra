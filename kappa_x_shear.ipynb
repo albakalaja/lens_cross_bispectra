{
 "cells": [
  {
   "cell_type": "markdown",
   "id": "792583ed-62cd-4c67-ac50-9dd156c9c094",
   "metadata": {
    "tags": []
   },
   "source": [
    "# Get the cross-bispectra "
   ]
  },
  {
   "cell_type": "code",
   "execution_count": 1,
   "id": "7a2d0e14-6b5c-4e23-91ef-610658c2a2d0",
   "metadata": {},
   "outputs": [],
   "source": [
    "from scripts.imports import *\n",
    "import scripts.lensing as lens"
   ]
  },
  {
   "cell_type": "code",
   "execution_count": 2,
   "id": "8e402228-f979-4489-99a2-d96d66223121",
   "metadata": {},
   "outputs": [],
   "source": [
    "# Load cosmology from CAMB\n",
    "pars = camb.read_ini('./planck_2018.ini')\n",
    "results = camb.get_results(pars)\n",
    "\n",
    "# get the radial comoving distance and redshift at recombination \n",
    "chi_cmb = results.conformal_time(0)- results.tau_maxvis # recombination\n",
    "zcmb = results.redshift_at_comoving_radial_distance(chi_cmb)\n",
    "\n",
    "# set other variables\n",
    "kmax = 100 # maximum k for matter spectra\n",
    "lmax = 2500 # maximum multipole for CMB spectra\n",
    "ell_acc = 2 # 1 for all ells\n",
    "ells = np.linspace(2,lmax, int((lmax-2)/ell_acc))\n",
    "\n",
    "nz = 200 # sampling of redshift"
   ]
  },
  {
   "cell_type": "markdown",
   "id": "2ca90ed6-0e5d-424c-b2c0-b9e2f4786b64",
   "metadata": {},
   "source": [
    "The theoretical matter bispectrum is defined as\n",
    "$$ B_\\delta(k_1,k_2,k_3) = 2 F_2(k_1,k_2)P_\\delta^{\\mathrm{NL}}(k_1)P_\\delta^{\\mathrm{NL}}(k_2) + \\mathrm{perms}$$\n",
    "where $P_\\delta^{\\mathrm{NL}}$ is the nonlinear matter power spectrum and $F_2(k_i,k_j)$ is the so-called symmetrized two-point kernel (see https://arxiv.org/pdf/1111.4477.pdf as a reference). "
   ]
  },
  {
   "cell_type": "code",
   "execution_count": 3,
   "id": "ee13f333-ea3c-4e6f-8884-e71c5436bf87",
   "metadata": {},
   "outputs": [],
   "source": [
    "# Get the matter power spectra\n",
    "# nonlinear delta power spectrum\n",
    "Pdelta = camb.get_matter_power_interpolator(pars, nonlinear=True, \n",
    "    hubble_units=False, k_hunit=False, kmax=kmax,k_per_logint=None,\n",
    "    var1=model.Transfer_tot,var2=model.Transfer_tot, zmax=zcmb)\n",
    "\n",
    "# linear delta power spectrum -> needed to compute k_NL and n_eff\n",
    "Plin, Plin_z, Plin_k = camb.get_matter_power_interpolator(pars, nonlinear=False, \n",
    "    hubble_units=False, k_hunit=False, kmax=kmax,k_per_logint=None,\n",
    "    var1=model.Transfer_tot,var2=model.Transfer_tot, zmax=zcmb, return_z_k=True)"
   ]
  },
  {
   "cell_type": "markdown",
   "id": "e259c2e7-1a43-43ca-8122-d17d84b1f922",
   "metadata": {},
   "source": [
    "Compute $k_{\\mathrm{NL}}$, which is defined as the scale where the dimensionless matter power spectrum becomes 1\n",
    "$$\\frac{k^3}{2\\pi^2}P_\\delta^{\\mathrm{Lin}}(k)\\equiv 1$$"
   ]
  },
  {
   "cell_type": "code",
   "execution_count": 4,
   "id": "7eaacce4-2546-447a-b15b-8ef7fe5ddbda",
   "metadata": {},
   "outputs": [
    {
     "name": "stderr",
     "output_type": "stream",
     "text": [
      "/global/homes/a/akalaja/.local/lib/python3.7/site-packages/camb/results.py:953: RuntimeWarning: invalid value encountered in log\n",
      "  return self.logsign * np.exp(self(z, np.log(kh), grid=grid))\n"
     ]
    }
   ],
   "source": [
    "#Compute k_NL, from http://cmbant.github.io/notebooks/PostBorn.html\n",
    "zmax_lss = 5.2 \n",
    "zP = np.exp(np.linspace(0, np.log(zmax_lss+1),50))-1\n",
    "kNLs = np.zeros(zP.shape)\n",
    "for i,z in enumerate(zP):\n",
    "    def f(k):\n",
    "        return (k**3*Plin.P(z,k)/(2*np.pi**2)-1)**2\n",
    "    kNL = optimize.golden(f, brack=[1e-4, kmax])\n",
    "    kNLs[i]=kNL\n",
    "kNLsp=spl(zP,kNLs, s=0)"
   ]
  },
  {
   "cell_type": "markdown",
   "id": "3cc27b68-f857-487c-ae28-540ea750b4ae",
   "metadata": {},
   "source": [
    "Compute $n_\\mathrm{eff}$, defined as\n",
    "$$n_\\mathrm{eff} = \\frac{d\\log P_\\delta^{\\mathrm{Lin}}(k)}{d \\log k}$$"
   ]
  },
  {
   "cell_type": "code",
   "execution_count": 5,
   "id": "cb1432f3-0c20-46f9-9866-cdb1c52993ce",
   "metadata": {},
   "outputs": [],
   "source": [
    "#De-wiggled d ln P/dln k (simple dewiggling recipe) from http://cmbant.github.io/notebooks/PostBorn.html\n",
    "neff_k=Plin(0.1,np.log(Plin_k),grid=False, dy=1) # this takes the derivative\n",
    "w=np.ones(neff_k.size)\n",
    "w[Plin_k<5e-3]=100\n",
    "w[Plin_k>1]=10\n",
    "n_eff = spl(np.log(Plin_k), neff_k, s=10, w =w) # interpolate (see fig. 1 of https://arxiv.org/pdf/1111.4477.pdf)"
   ]
  },
  {
   "cell_type": "code",
   "execution_count": 6,
   "id": "1a1814b0-9d76-40f4-a58d-dd20c8e2a12d",
   "metadata": {},
   "outputs": [
    {
     "name": "stdout",
     "output_type": "stream",
     "text": [
      "Note: redshifts have been re-sorted (earliest first)\n"
     ]
    }
   ],
   "source": [
    "#get sigma_8(z)\n",
    "pars.set_matter_power(redshifts = zP, kmax=kmax)\n",
    "results = camb.get_results(pars)\n",
    "s8vals=results.get_sigma8()[::-1]\n",
    "s8 = spl(zP, s8vals,s=0)   "
   ]
  },
  {
   "cell_type": "markdown",
   "id": "fc429244-e24b-4a69-9d11-a12eb5fbba62",
   "metadata": {},
   "source": [
    "Introduce functions needed to compute $F_2(k_i,k_j)$"
   ]
  },
  {
   "cell_type": "code",
   "execution_count": 7,
   "id": "48957aa8-2942-461a-a319-1f693fb7ee5e",
   "metadata": {},
   "outputs": [],
   "source": [
    "def a(k,z,a1,a2,a6):\n",
    "    q = k/kNLsp(z)\n",
    "    n = n_eff(np.log(k))\n",
    "    Q = (4-2**n)/(1+2**(n+1))\n",
    "    nom = 1 + s8(z)**(a6) * (0.7*Q)**(1/2)*(q*a1)**(n+a2)\n",
    "    denom = 1 + (q*a1)**(n+a2)\n",
    "    res = nom/denom\n",
    "    res[np.isnan(res)] = 1. # avoid problems\n",
    "    return res\n",
    "\n",
    "def b(k,z,a3,a7,a8):\n",
    "    q = k/kNLsp(z)\n",
    "    n = n_eff(np.log(k))#n_eff(z)\n",
    "    Q = (4-2**n)/(1+2**(n+1))\n",
    "    nom = 1 + 0.2*a3*(n+3)*(q*a7)**(n+3+a8)\n",
    "    denom = 1 + (q*a7)**(n+3.5+a8)\n",
    "    res = nom/denom\n",
    "    res[np.isnan(res)] = 1.\n",
    "    return res\n",
    "\n",
    "def c(k,z,a4,a5,a9):\n",
    "    q = k/kNLsp(z)\n",
    "    n = n_eff(np.log(k))#n_eff(z)\n",
    "    Q = (4-2**n)/(1+2**(n+1))\n",
    "    nom = 1 + ((4.5*a4)/(1.5+(n+3)**4))*(q*a5)**(n+3+a9)\n",
    "    denom = 1 + (q*a5)**(n+3.5+a9)\n",
    "    res = nom/denom\n",
    "    res[np.isnan(res)] = 1.\n",
    "    return res"
   ]
  },
  {
   "cell_type": "markdown",
   "id": "6da23dca-4038-4f37-9f10-836f4f8795f9",
   "metadata": {},
   "source": [
    "Let's compute the matter bispectrum, for now with the fitting formula provided by Gil-Marin (https://arxiv.org/pdf/1111.4477.pdf)"
   ]
  },
  {
   "cell_type": "code",
   "execution_count": 8,
   "id": "d6d26523-eb1a-4d4b-a580-ec28aeaf6d3f",
   "metadata": {},
   "outputs": [],
   "source": [
    "def matter_bispectrum(k1,k2,k3,z,interpk):\n",
    "    \n",
    "    a1 = 0.484\n",
    "    a2 = 3.740\n",
    "    a3 = -0.849\n",
    "    a4 = 0.392\n",
    "    a5 = 1.013\n",
    "    a6 = -0.575\n",
    "    a7 = 0.128\n",
    "    a8 = -0.722\n",
    "    a9 = -0.926\n",
    "    \n",
    "    # angles between k_i and k_j\n",
    "    cos12 = (k3**2-k1**2-k2**2)/2/k1/k2\n",
    "    cos23 = (k1**2-k2**2-k3**2)/2/k2/k3\n",
    "    cos31 = (k2**2-k3**2-k1**2)/2/k3/k1\n",
    "\n",
    "    \n",
    "    pk1 = interpk.P(z,k1,grid = False)\n",
    "    pk2 = interpk.P(z,k2,grid = False)\n",
    "    pk3 = interpk.P(z,k3,grid = False)\n",
    "    \n",
    "    ak1 = a(k1,z,a1,a2,a6)\n",
    "    ak2 = a(k2,z,a1,a2,a6)\n",
    "    ak3 = a(k3,z,a1,a2,a6)\n",
    "    \n",
    "    bk1 = b(k1,z,a3,a7,a8)\n",
    "    bk2 = b(k2,z,a3,a7,a8)\n",
    "    bk3 = b(k3,z,a3,a7,a8)\n",
    "    \n",
    "    ck1 = c(k1,z,a4,a5,a9)\n",
    "    ck2 = c(k2,z,a4,a5,a9)\n",
    "    ck3 = c(k3,z,a4,a5,a9)\n",
    "    \n",
    "    F12 = 5/7 * ak1*ak2 + (k1**2+k2**2)/(2*k1*k2)*bk1*bk2*cos12 + 2/7 *ck1*ck2*cos12**2 \n",
    "    F23 = 5/7 * ak2*ak3 + (k2**2+k3**2)/(2*k2*k3)*bk2*bk3*cos23 +  2/7 *ck2*ck3*cos23**2 \n",
    "    F13 = 5/7 * ak1*ak3 + (k1**2+k3**2)/(2*k1*k3)*bk1*bk3*cos31 + 2/7 *ck1*ck3*cos31**2\n",
    "  \n",
    "    value = 2*F12*pk1*pk2 + 2*F23*pk2*pk3 + 2*F13*pk1*pk3\n",
    "    return value"
   ]
  },
  {
   "cell_type": "markdown",
   "id": "dc108968-9275-4c02-8745-bd1c5479543d",
   "metadata": {},
   "source": [
    "Cross-bispectra:\n",
    "$$ B_{xyz}(\\ell_1,\\ell_2,\\ell_3) = \\left(\\frac{3\\Omega_{m,0} H_0^2}{2c^2}\\right)^3\\int_0^{\\chi_*}\\mathrm{d}\\chi\\, \\chi^2 W_x(\\chi)W_y(\\chi)W_z(\\chi) (1+z(\\chi))B(k_1,k_2,k_3,z),$$\n",
    "where $k_i = \\ell_i/\\chi$"
   ]
  },
  {
   "cell_type": "code",
   "execution_count": 9,
   "id": "1dc88142-d294-40d8-8572-e5be7bfecc1a",
   "metadata": {},
   "outputs": [],
   "source": [
    "Omega_m = (pars.ombh2+pars.omch2)/pars.h**2\n",
    "H = pars.h*100\n",
    "c_light = 2.99792458e5 #km/s"
   ]
  },
  {
   "cell_type": "code",
   "execution_count": 10,
   "id": "482c67f0-ca62-42f1-81d3-22c960e7212a",
   "metadata": {},
   "outputs": [],
   "source": [
    "def lenbispec_xyz(ls,interpk,btype,exp=None,chi_cmb=None,chi_gamma=None):\n",
    "    \"\"\"\n",
    "    --- btype: 'kkk', 'kss', 'kks','sss'\n",
    "    \"\"\"\n",
    "    \n",
    "    ls = ls.astype(np.float64)\n",
    "    \n",
    "    if btype=='kkk':\n",
    "        chi_cmb = np.float64(chi_cmb)\n",
    "        chis = np.linspace(0,chi_cmb,nz)\n",
    "        zs = results.redshift_at_comoving_radial_distance(chis)\n",
    "        chis = chis[1:-1]\n",
    "        zs = zs[1:-1]\n",
    "        win = (1-chis/chi_cmb)**3*chis**3\n",
    "        \n",
    "    if btype=='kss':\n",
    "        chi_cmb = np.float64(chi_cmb)\n",
    "        chi_gamma = np.float64(chi_gamma)\n",
    "        chis = np.linspace(0,chi_gamma,nz)\n",
    "        zs = results.redshift_at_comoving_radial_distance(chis)\n",
    "        chis = chis[1:-1]\n",
    "        zs = zs[1:-1]\n",
    "        win1 = (1-chis/chi_cmb)*chis # check if chi_gamma is fine\n",
    "        dndz_full, idndz_full, _ = lens.get_num_dens_gal(zs, exp)\n",
    "    \n",
    "        win2=np.zeros(zs.shape)\n",
    "        for j in range(len(zs)):\n",
    "            zint = np.linspace(zs[j],zs[-1],nz, dtype=np.float64)\n",
    "            chiint = results.comoving_radial_distance(zint)\n",
    "            chiint = chiint[1:-1]\n",
    "            zint = zint[1:-1]\n",
    "            dndz, _, _ = lens.get_num_dens_gal(zint, exp)\n",
    "            window = dndz*(1-chis[j]/chiint)/idndz_full\n",
    "            win2[j] = chis[j]*integrate.trapz(window, x=zint)\n",
    "        win = win1*win2**2\n",
    "    \n",
    "    if btype=='kks':\n",
    "        chi_cmb = np.float64(chi_cmb)\n",
    "        chi_gamma = np.float64(chi_gamma)\n",
    "        chis = np.linspace(0,chi_gamma,nz)\n",
    "        zs = results.redshift_at_comoving_radial_distance(chis)\n",
    "        chis = chis[1:-1]\n",
    "        zs = zs[1:-1]\n",
    "        win1 = (1-chis/chi_cmb)*chis\n",
    "        dndz_full, idndz_full, _ = lens.get_num_dens_gal(zs, exp)\n",
    "    \n",
    "        win2=np.zeros(zs.shape)\n",
    "        for j in range(len(zs)):\n",
    "            zint = np.linspace(zs[j],zs[-1],nz, dtype=np.float64)\n",
    "            chiint = results.comoving_radial_distance(zint)\n",
    "            chiint = chiint[1:-1]\n",
    "            zint = zint[1:-1]\n",
    "            dndz, _, _ = lens.get_num_dens_gal(zint, exp)\n",
    "            window = dndz*(1-chis[j]/chiint)/idndz_full\n",
    "            win2[j] = chis[j]*integrate.trapz(window, x=zint)\n",
    "        win = win1**2*win2\n",
    "        \n",
    "    if btype=='sss':\n",
    "        chi_gamma = np.float64(chi_gamma)\n",
    "        chis = np.linspace(0,chi_gamma,nz)\n",
    "        zs = results.redshift_at_comoving_radial_distance(chis)\n",
    "        chis = chis[1:-1]\n",
    "        zs = zs[1:-1]\n",
    "        dndz_full, idndz_full, _ = lens.get_num_dens_gal(zs, exp)\n",
    "    \n",
    "        win1=np.zeros(zs.shape)\n",
    "        for j in range(len(zs)):\n",
    "            zint = np.linspace(zs[j],zs[-1],nz, dtype=np.float64)\n",
    "            chiint = results.comoving_radial_distance(zint)\n",
    "            chiint = chiint[1:-1]\n",
    "            zint = zint[1:-1]\n",
    "            dndz, _, _ = lens.get_num_dens_gal(zint, exp)\n",
    "            window = dndz*(1-chis[j]/chiint)/idndz_full\n",
    "            win1[j] = chis[j]*integrate.trapz(window, x=zint)\n",
    "        win = win1**3\n",
    "        \n",
    "    const = (3*Omega_m*H**2)*(1+zs)/(2*c_light**2)\n",
    "    bisp=np.zeros(ls.shape[0])\n",
    "    w = np.ones(chis.shape[0])\n",
    "    # H_z = results.hubble_parameter(zs)\n",
    "    for i, (l1,l2,l3) in enumerate(ls):\n",
    "        k1=(l1+0.5)/chis\n",
    "        k2=(l2+0.5)/chis\n",
    "        k3=(l3+0.5)/chis\n",
    "        B = matter_bispectrum(k1,k2,k3,zs,interpk)\n",
    "        \n",
    "        w[:]=1\n",
    "        w[k1<1e-4]=0\n",
    "        w[k1>=kmax]=0\n",
    "        w[k2<1e-4]=0\n",
    "        w[k2>=kmax]=0\n",
    "        w[k3<1e-4]=0\n",
    "        w[k3>=kmax]=0    \n",
    "        \n",
    "        bisp[i] = integrate.trapz(const**3*win*B/chis**4*w,x = chis)\n",
    " \n",
    "    return bisp"
   ]
  },
  {
   "cell_type": "code",
   "execution_count": 11,
   "id": "c1077c84-7e60-4429-8dcd-e62fc32ac79b",
   "metadata": {},
   "outputs": [],
   "source": [
    "lequil =np.zeros((ells.size,3))\n",
    "for i,l in enumerate(ells):\n",
    "    lequil[i,:]=l,l,l  "
   ]
  },
  {
   "cell_type": "code",
   "execution_count": 12,
   "id": "b07e5c67-7102-4296-a890-772147897306",
   "metadata": {
    "tags": []
   },
   "outputs": [
    {
     "name": "stderr",
     "output_type": "stream",
     "text": [
      "/global/homes/a/akalaja/.conda/envs/albaenv/lib/python3.7/site-packages/ipykernel_launcher.py:5: RuntimeWarning: invalid value encountered in power\n",
      "  \"\"\"\n"
     ]
    }
   ],
   "source": [
    "kkk_equil = lenbispec_xyz(lequil,Pdelta,'kkk',exp=None,chi_cmb=chi_cmb,chi_gamma=None)"
   ]
  },
  {
   "cell_type": "markdown",
   "id": "69187807-3663-45d8-b52a-f473a45dc274",
   "metadata": {},
   "source": [
    "Cross-bispectra for a Euclid-type of redshift distribution of galaxies"
   ]
  },
  {
   "cell_type": "code",
   "execution_count": 13,
   "id": "73002317-aba4-486a-a9e1-3b99efd03dc0",
   "metadata": {},
   "outputs": [],
   "source": [
    "z_eucl = np.linspace(0.0, 3., nz)\n",
    "chi_eucl = results.comoving_radial_distance(z_eucl[-1])"
   ]
  },
  {
   "cell_type": "code",
   "execution_count": 14,
   "id": "7425cc0d-584b-4cb4-aa16-b69eeddced38",
   "metadata": {
    "tags": []
   },
   "outputs": [
    {
     "name": "stderr",
     "output_type": "stream",
     "text": [
      "/global/cscratch1/sd/akalaja/cross_bispectra/scripts/lensing.py:34: RuntimeWarning: divide by zero encountered in double_scalars\n",
      "  K = tot_ngal/num_gal\n"
     ]
    }
   ],
   "source": [
    "kss_equil = lenbispec_xyz(lequil,Pdelta,'kss',exp='Euclid',chi_cmb=chi_cmb,chi_gamma=chi_eucl)"
   ]
  },
  {
   "cell_type": "code",
   "execution_count": 15,
   "id": "4d45b5b0-0fc8-4be7-91d8-b41f118ed1c4",
   "metadata": {
    "tags": []
   },
   "outputs": [],
   "source": [
    "kks_equil = lenbispec_xyz(lequil,Pdelta,'kks',exp='Euclid',chi_cmb=chi_cmb,chi_gamma=chi_eucl)"
   ]
  },
  {
   "cell_type": "code",
   "execution_count": 16,
   "id": "cb721bfd-c2c5-48df-a05c-4c6a341253b9",
   "metadata": {
    "tags": []
   },
   "outputs": [],
   "source": [
    "sss_equil = lenbispec_xyz(lequil,Pdelta,'sss',exp='Euclid',chi_cmb=None,chi_gamma=chi_eucl)"
   ]
  },
  {
   "cell_type": "code",
   "execution_count": 17,
   "id": "ba932bdd-0ff3-4dd0-a369-7c5ca7776edc",
   "metadata": {},
   "outputs": [
    {
     "data": {
      "image/png": "[encoded data removed]",
      "text/plain": [
       "<Figure size 800x500 with 1 Axes>"
      ]
     },
     "metadata": {},
     "output_type": "display_data"
    }
   ],
   "source": [
    "plt.figure(figsize=(8,5))\n",
    "plt.loglog(ells, ells**4*kkk_equil/(2*np.pi)**2, label = r'$\\kappa\\kappa\\kappa$', color = 'royalblue', linewidth = 2.0, zorder = 10)\n",
    "plt.loglog(ells, ells**4*kks_equil/(2*np.pi)**2, label = r'$\\kappa\\kappa\\gamma$', color = 'darkorange', linewidth = 2.0, zorder = 10)\n",
    "\n",
    "plt.loglog(ells, ells**4*kss_equil/(2*np.pi)**2, label = r'$\\kappa\\gamma\\gamma$', color = 'forestgreen', linewidth = 2.0, zorder = 10)\n",
    "plt.loglog(ells, ells**4*sss_equil/(2*np.pi)**2, label = r'$\\gamma\\gamma\\gamma$', color = 'crimson', linewidth = 2.0, zorder = 10)\n",
    "# \n",
    "# plt.loglog(lnew,lnew**4*cmblensplus_equil/(2*np.pi)**2, label = r'cmblensplus', color = 'darkorange', linewidth = 2.0, zorder = 10)\n",
    "\n",
    "plt.xlabel(r'$k$', fontsize=25)\n",
    "plt.ylabel(r'$\\ell^4\\,B(\\ell_1,\\ell_2,\\ell_3)/(2\\pi)^2$', fontsize=20)\n",
    "plt.legend(loc=0, fontsize = 15)\n",
    "# plt.xlim([10,2e3])\n",
    "# plt.ylim([1e-11,5e-4])\n",
    "\n",
    "plt.tick_params(axis='both', which='both', direction='in', top=True, right=True, labelsize=20)\n",
    "plt.grid(True, which='both',linestyle='--', alpha = 0.4)\n",
    "plt.show()"
   ]
  },
  {
   "cell_type": "code",
   "execution_count": null,
   "id": "7b2bf4bc-76a7-4c2a-b847-feeafe5e2be7",
   "metadata": {},
   "outputs": [],
   "source": []
  },
  {
   "cell_type": "code",
   "execution_count": null,
   "id": "a6fdc28c-0687-465a-920a-8f98ad1f5915",
   "metadata": {},
   "outputs": [],
   "source": []
  },
  {
   "cell_type": "code",
   "execution_count": null,
   "id": "70ce0cb3-3093-4e06-b143-e3e3cfd162ab",
   "metadata": {},
   "outputs": [],
   "source": []
  }
 ],
 "metadata": {
  "kernelspec": {
   "display_name": "AlbaEnv",
   "language": "python",
   "name": "albaenv"
  },
  "language_info": {
   "codemirror_mode": {
    "name": "ipython",
    "version": 3
   },
   "file_extension": ".py",
   "mimetype": "text/x-python",
   "name": "python",
   "nbconvert_exporter": "python",
   "pygments_lexer": "ipython3",
   "version": "3.7.7"
  }
 },
 "nbformat": 4,
 "nbformat_minor": 5
}
